{
 "metadata": {
  "language_info": {
   "codemirror_mode": {
    "name": "ipython",
    "version": 3
   },
   "file_extension": ".py",
   "mimetype": "text/x-python",
   "name": "python",
   "nbconvert_exporter": "python",
   "pygments_lexer": "ipython3",
   "version": "3.8.5-final"
  },
  "orig_nbformat": 2,
  "kernelspec": {
   "name": "Python 3.8.5 64-bit ('base': conda)",
   "display_name": "Python 3.8.5 64-bit ('base': conda)",
   "metadata": {
    "interpreter": {
     "hash": "390c3ea5e84e82a7e118c7ab428a64c0df0c2d940a891b433bd00a42f0722f7c"
    }
   }
  }
 },
 "nbformat": 4,
 "nbformat_minor": 2,
 "cells": [
  {
   "source": [
    "import numpy as np \n",
    "import pandas as pd \n",
    "import os\n",
    "import urllib\n",
    "%matplotlib inline"
   ],
   "cell_type": "code",
   "metadata": {},
   "execution_count": 1,
   "outputs": []
  },
  {
   "source": [
    "url = \"https://covid19.who.int/WHO-COVID-19-global-data.csv\"\n",
    "file_path = os.path.join(\"data\", \"covid\")"
   ],
   "cell_type": "code",
   "metadata": {},
   "execution_count": 4,
   "outputs": []
  },
  {
   "cell_type": "code",
   "execution_count": 5,
   "metadata": {},
   "outputs": [
    {
     "output_type": "execute_result",
     "data": {
      "text/plain": "('data\\\\covid\\\\WHO-COVID-19-global-data.scv',\n <http.client.HTTPMessage at 0x26a03098ee0>)"
     },
     "metadata": {},
     "execution_count": 5
    }
   ],
   "source": [
    "os.makedirs(file_path, exist_ok=True)\n",
    "csv_path = os.path.join(file_path, \"WHO-COVID-19-global-data.scv\")\n",
    "urllib.request.urlretrieve(url, csv_path)"
   ]
  },
  {
   "cell_type": "code",
   "execution_count": 7,
   "metadata": {},
   "outputs": [],
   "source": [
    "df = pd.read_csv(csv_path)"
   ]
  },
  {
   "cell_type": "code",
   "execution_count": 8,
   "metadata": {},
   "outputs": [
    {
     "output_type": "execute_result",
     "data": {
      "text/plain": "  Date_reported  Country_code      Country  WHO_region   New_cases  \\\n0    2020-01-03            AF  Afghanistan        EMRO           0   \n1    2020-01-04            AF  Afghanistan        EMRO           0   \n2    2020-01-05            AF  Afghanistan        EMRO           0   \n3    2020-01-06            AF  Afghanistan        EMRO           0   \n4    2020-01-07            AF  Afghanistan        EMRO           0   \n\n    Cumulative_cases   New_deaths   Cumulative_deaths  \n0                  0            0                   0  \n1                  0            0                   0  \n2                  0            0                   0  \n3                  0            0                   0  \n4                  0            0                   0  ",
      "text/html": "<div>\n<style scoped>\n    .dataframe tbody tr th:only-of-type {\n        vertical-align: middle;\n    }\n\n    .dataframe tbody tr th {\n        vertical-align: top;\n    }\n\n    .dataframe thead th {\n        text-align: right;\n    }\n</style>\n<table border=\"1\" class=\"dataframe\">\n  <thead>\n    <tr style=\"text-align: right;\">\n      <th></th>\n      <th>Date_reported</th>\n      <th>Country_code</th>\n      <th>Country</th>\n      <th>WHO_region</th>\n      <th>New_cases</th>\n      <th>Cumulative_cases</th>\n      <th>New_deaths</th>\n      <th>Cumulative_deaths</th>\n    </tr>\n  </thead>\n  <tbody>\n    <tr>\n      <th>0</th>\n      <td>2020-01-03</td>\n      <td>AF</td>\n      <td>Afghanistan</td>\n      <td>EMRO</td>\n      <td>0</td>\n      <td>0</td>\n      <td>0</td>\n      <td>0</td>\n    </tr>\n    <tr>\n      <th>1</th>\n      <td>2020-01-04</td>\n      <td>AF</td>\n      <td>Afghanistan</td>\n      <td>EMRO</td>\n      <td>0</td>\n      <td>0</td>\n      <td>0</td>\n      <td>0</td>\n    </tr>\n    <tr>\n      <th>2</th>\n      <td>2020-01-05</td>\n      <td>AF</td>\n      <td>Afghanistan</td>\n      <td>EMRO</td>\n      <td>0</td>\n      <td>0</td>\n      <td>0</td>\n      <td>0</td>\n    </tr>\n    <tr>\n      <th>3</th>\n      <td>2020-01-06</td>\n      <td>AF</td>\n      <td>Afghanistan</td>\n      <td>EMRO</td>\n      <td>0</td>\n      <td>0</td>\n      <td>0</td>\n      <td>0</td>\n    </tr>\n    <tr>\n      <th>4</th>\n      <td>2020-01-07</td>\n      <td>AF</td>\n      <td>Afghanistan</td>\n      <td>EMRO</td>\n      <td>0</td>\n      <td>0</td>\n      <td>0</td>\n      <td>0</td>\n    </tr>\n  </tbody>\n</table>\n</div>"
     },
     "metadata": {},
     "execution_count": 8
    }
   ],
   "source": [
    "df.head(5)"
   ]
  },
  {
   "cell_type": "code",
   "execution_count": 27,
   "metadata": {},
   "outputs": [
    {
     "output_type": "execute_result",
     "data": {
      "text/plain": "  Date_reported Country_code      Country WHO_region  New_cases  \\\n0    2020-01-03           AF  Afghanistan       EMRO          0   \n1    2020-01-04           AF  Afghanistan       EMRO          0   \n2    2020-01-05           AF  Afghanistan       EMRO          0   \n3    2020-01-06           AF  Afghanistan       EMRO          0   \n4    2020-01-07           AF  Afghanistan       EMRO          0   \n\n   Cumulative_cases  New_deaths  Cumulative_deaths  \n0                 0           0                  0  \n1                 0           0                  0  \n2                 0           0                  0  \n3                 0           0                  0  \n4                 0           0                  0  ",
      "text/html": "<div>\n<style scoped>\n    .dataframe tbody tr th:only-of-type {\n        vertical-align: middle;\n    }\n\n    .dataframe tbody tr th {\n        vertical-align: top;\n    }\n\n    .dataframe thead th {\n        text-align: right;\n    }\n</style>\n<table border=\"1\" class=\"dataframe\">\n  <thead>\n    <tr style=\"text-align: right;\">\n      <th></th>\n      <th>Date_reported</th>\n      <th>Country_code</th>\n      <th>Country</th>\n      <th>WHO_region</th>\n      <th>New_cases</th>\n      <th>Cumulative_cases</th>\n      <th>New_deaths</th>\n      <th>Cumulative_deaths</th>\n    </tr>\n  </thead>\n  <tbody>\n    <tr>\n      <th>0</th>\n      <td>2020-01-03</td>\n      <td>AF</td>\n      <td>Afghanistan</td>\n      <td>EMRO</td>\n      <td>0</td>\n      <td>0</td>\n      <td>0</td>\n      <td>0</td>\n    </tr>\n    <tr>\n      <th>1</th>\n      <td>2020-01-04</td>\n      <td>AF</td>\n      <td>Afghanistan</td>\n      <td>EMRO</td>\n      <td>0</td>\n      <td>0</td>\n      <td>0</td>\n      <td>0</td>\n    </tr>\n    <tr>\n      <th>2</th>\n      <td>2020-01-05</td>\n      <td>AF</td>\n      <td>Afghanistan</td>\n      <td>EMRO</td>\n      <td>0</td>\n      <td>0</td>\n      <td>0</td>\n      <td>0</td>\n    </tr>\n    <tr>\n      <th>3</th>\n      <td>2020-01-06</td>\n      <td>AF</td>\n      <td>Afghanistan</td>\n      <td>EMRO</td>\n      <td>0</td>\n      <td>0</td>\n      <td>0</td>\n      <td>0</td>\n    </tr>\n    <tr>\n      <th>4</th>\n      <td>2020-01-07</td>\n      <td>AF</td>\n      <td>Afghanistan</td>\n      <td>EMRO</td>\n      <td>0</td>\n      <td>0</td>\n      <td>0</td>\n      <td>0</td>\n    </tr>\n  </tbody>\n</table>\n</div>"
     },
     "metadata": {},
     "execution_count": 27
    }
   ],
   "source": [
    "df.head(5)"
   ]
  },
  {
   "cell_type": "code",
   "execution_count": 30,
   "metadata": {
    "tags": []
   },
   "outputs": [
    {
     "output_type": "execute_result",
     "data": {
      "text/plain": "       Country  New_cases\n1  Afghanistan          0\n2  Afghanistan          0\n3  Afghanistan          0\n4  Afghanistan          0",
      "text/html": "<div>\n<style scoped>\n    .dataframe tbody tr th:only-of-type {\n        vertical-align: middle;\n    }\n\n    .dataframe tbody tr th {\n        vertical-align: top;\n    }\n\n    .dataframe thead th {\n        text-align: right;\n    }\n</style>\n<table border=\"1\" class=\"dataframe\">\n  <thead>\n    <tr style=\"text-align: right;\">\n      <th></th>\n      <th>Country</th>\n      <th>New_cases</th>\n    </tr>\n  </thead>\n  <tbody>\n    <tr>\n      <th>1</th>\n      <td>Afghanistan</td>\n      <td>0</td>\n    </tr>\n    <tr>\n      <th>2</th>\n      <td>Afghanistan</td>\n      <td>0</td>\n    </tr>\n    <tr>\n      <th>3</th>\n      <td>Afghanistan</td>\n      <td>0</td>\n    </tr>\n    <tr>\n      <th>4</th>\n      <td>Afghanistan</td>\n      <td>0</td>\n    </tr>\n  </tbody>\n</table>\n</div>"
     },
     "metadata": {},
     "execution_count": 30
    }
   ],
   "source": [
    "df.loc[1:4, [\"Country\", \"New_cases\"]]\n"
   ]
  },
  {
   "cell_type": "code",
   "execution_count": 31,
   "metadata": {},
   "outputs": [
    {
     "output_type": "execute_result",
     "data": {
      "text/plain": "Index(['Date_reported', 'Country_code', 'Country', 'WHO_region', 'New_cases',\n       'Cumulative_cases', 'New_deaths', 'Cumulative_deaths'],\n      dtype='object')"
     },
     "metadata": {},
     "execution_count": 31
    }
   ],
   "source": [
    "df[df.Country == \"Zimbabwe\"]\n",
    "df.columns"
   ]
  },
  {
   "cell_type": "code",
   "execution_count": 26,
   "metadata": {},
   "outputs": [
    {
     "output_type": "execute_result",
     "data": {
      "text/plain": "array(['Afghanistan', 'Albania', 'Algeria', 'American Samoa', 'Andorra',\n       'Angola', 'Anguilla', 'Antigua and Barbuda', 'Argentina',\n       'Armenia', 'Aruba', 'Australia', 'Austria', 'Azerbaijan',\n       'Bahamas', 'Bahrain', 'Bangladesh', 'Barbados', 'Belarus',\n       'Belgium', 'Belize', 'Benin', 'Bermuda', 'Bhutan',\n       'Bolivia (Plurinational State of)',\n       'Bonaire, Sint Eustatius and Saba', 'Bosnia and Herzegovina',\n       'Botswana', 'Brazil', 'British Virgin Islands',\n       'Brunei Darussalam', 'Bulgaria', 'Burkina Faso', 'Burundi',\n       'Cabo Verde', 'Cambodia', 'Cameroon', 'Canada', 'Cayman Islands',\n       'Central African Republic', 'Chad', 'Chile', 'China', 'Colombia',\n       'Comoros', 'Congo', 'Cook Islands', 'Costa Rica', 'Côte d’Ivoire',\n       'Croatia', 'Cuba', 'Curaçao', 'Cyprus', 'Czechia',\n       \"Democratic People's Republic of Korea\",\n       'Democratic Republic of the Congo', 'Denmark', 'Djibouti',\n       'Dominica', 'Dominican Republic', 'Ecuador', 'Egypt',\n       'El Salvador', 'Equatorial Guinea', 'Eritrea', 'Estonia',\n       'Eswatini', 'Ethiopia', 'Falkland Islands (Malvinas)',\n       'Faroe Islands', 'Fiji', 'Finland', 'France', 'French Guiana',\n       'French Polynesia', 'Gabon', 'Gambia', 'Georgia', 'Germany',\n       'Ghana', 'Gibraltar', 'Greece', 'Greenland', 'Grenada',\n       'Guadeloupe', 'Guam', 'Guatemala', 'Guernsey', 'Guinea',\n       'Guinea-Bissau', 'Guyana', 'Haiti', 'Holy See', 'Honduras',\n       'Hungary', 'Iceland', 'India', 'Indonesia',\n       'Iran (Islamic Republic of)', 'Iraq', 'Ireland', 'Isle of Man',\n       'Israel', 'Italy', 'Jamaica', 'Japan', 'Jersey', 'Jordan',\n       'Kazakhstan', 'Kenya', 'Kiribati', 'Kosovo[1]', 'Kuwait',\n       'Kyrgyzstan', \"Lao People's Democratic Republic\", 'Latvia',\n       'Lebanon', 'Lesotho', 'Liberia', 'Libya', 'Liechtenstein',\n       'Lithuania', 'Luxembourg', 'Madagascar', 'Malawi', 'Malaysia',\n       'Maldives', 'Mali', 'Malta', 'Marshall Islands', 'Martinique',\n       'Mauritania', 'Mauritius', 'Mayotte', 'Mexico',\n       'Micronesia (Federated States of)', 'Monaco', 'Mongolia',\n       'Montenegro', 'Montserrat', 'Morocco', 'Mozambique', 'Myanmar',\n       'Namibia', 'Nauru', 'Nepal', 'Netherlands', 'New Caledonia',\n       'New Zealand', 'Nicaragua', 'Niger', 'Nigeria', 'Niue',\n       'North Macedonia',\n       'Northern Mariana Islands (Commonwealth of the)', 'Norway',\n       'occupied Palestinian territory, including east Jerusalem', 'Oman',\n       'Other', 'Pakistan', 'Palau', 'Panama', 'Papua New Guinea',\n       'Paraguay', 'Peru', 'Philippines', 'Pitcairn Islands', 'Poland',\n       'Portugal', 'Puerto Rico', 'Qatar', 'Republic of Korea',\n       'Republic of Moldova', 'Réunion', 'Romania', 'Russian Federation',\n       'Rwanda', 'Saint Barthélemy', 'Saint Helena',\n       'Saint Kitts and Nevis', 'Saint Lucia', 'Saint Martin',\n       'Saint Pierre and Miquelon', 'Saint Vincent and the Grenadines',\n       'Samoa', 'San Marino', 'Sao Tome and Principe', 'Saudi Arabia',\n       'Senegal', 'Serbia', 'Seychelles', 'Sierra Leone', 'Singapore',\n       'Sint Maarten', 'Slovakia', 'Slovenia', 'Solomon Islands',\n       'Somalia', 'South Africa', 'South Sudan', 'Spain', 'Sri Lanka',\n       'Sudan', 'Suriname', 'Sweden', 'Switzerland',\n       'Syrian Arab Republic', 'Tajikistan', 'Thailand',\n       'The United Kingdom', 'Timor-Leste', 'Togo', 'Tokelau', 'Tonga',\n       'Trinidad and Tobago', 'Tunisia', 'Turkey', 'Turkmenistan',\n       'Turks and Caicos Islands', 'Tuvalu', 'Uganda', 'Ukraine',\n       'United Arab Emirates', 'United Republic of Tanzania',\n       'United States of America', 'United States Virgin Islands',\n       'Uruguay', 'Uzbekistan', 'Vanuatu',\n       'Venezuela (Bolivarian Republic of)', 'Viet Nam',\n       'Wallis and Futuna', 'Yemen', 'Zambia', 'Zimbabwe'], dtype=object)"
     },
     "metadata": {},
     "execution_count": 26
    }
   ],
   "source": [
    "df[\"Country\"].unique()"
   ]
  },
  {
   "cell_type": "code",
   "execution_count": null,
   "metadata": {},
   "outputs": [],
   "source": []
  }
 ]
}